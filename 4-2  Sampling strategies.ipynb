{
 "cells": [
  {
   "cell_type": "code",
   "execution_count": 1,
   "metadata": {
    "collapsed": true
   },
   "outputs": [],
   "source": [
    "#Importing packages\n",
    "import numpy as np\n",
    "import pandas as pd\n",
    "import seaborn as sb\n",
    "#import category_encoders as ce\n",
    "import matplotlib.pyplot as plt\n",
    "import pylab as pl\n",
    "from pandas import ExcelFile\n",
    "import xlrd\n",
    "from sklearn import preprocessing\n",
    "\n",
    "%matplotlib inline"
   ]
  },
  {
   "cell_type": "code",
   "execution_count": 11,
   "metadata": {},
   "outputs": [
    {
     "name": "stdout",
     "output_type": "stream",
     "text": [
      "The file name is : WeatherAUS-Final-PCA.xlsx\n",
      "The sheet's name is: Data\n",
      "The matrix size is: (142193, 10)\n",
      "The file has: 1421930 data points.\n",
      "*******************************************\n",
      "         P1        P2        P3        P4        P5        P6        P7  \\\n",
      "0  1.329162  1.089773  0.154372  1.386960 -0.077080  0.717266  0.698151   \n",
      "1  1.201544 -0.165625  0.510448  2.212495 -0.873853 -0.776803  0.007917   \n",
      "2  2.188099  0.833814  0.844096  1.261486  0.215900 -0.702896  0.469526   \n",
      "3  0.827603 -2.096686  0.795512  1.560439  0.562138  0.032131  0.468624   \n",
      "4  1.975079 -0.412035 -1.132834  0.913044 -1.073298  0.954810  0.153818   \n",
      "\n",
      "         P8  \n",
      "0 -0.844924  \n",
      "1  0.085203  \n",
      "2 -0.209797  \n",
      "3  0.029683  \n",
      "4 -0.279111  \n",
      "0   -1\n",
      "1   -1\n",
      "2   -1\n",
      "3   -1\n",
      "4   -1\n",
      "Name: label, dtype: int64\n"
     ]
    }
   ],
   "source": [
    "#Openning Excel sheet and importing the data\n",
    "\"\"\"\n",
    "Open files and create the data frame from the excel sheet.\n",
    "there are 24 columns and 142193 observations.\n",
    "\"\"\"\n",
    "#Assign spreadsheet file name to 'file'.\n",
    "file = 'WeatherAUS-Final-PCA.xlsx'  \n",
    "\n",
    "#Load spreadsheet.\n",
    "Excel_File = pd.ExcelFile (file)\n",
    "print \"The file name is :\", file\n",
    "print \"The sheet's name is:\", \"Data\"\n",
    "\n",
    "#Load a sheet into a dataframe by name Data:\n",
    "Data = Excel_File.parse('Data')\n",
    "print \"The matrix size is:\", np.shape (Data)\n",
    "print \"The file has:\", np.size (Data), \"data points.\"\n",
    "print \"*******************************************\"\n",
    "\n",
    "Data = Data.drop('Location', axis=1) \n",
    "#Data\n",
    "X = Data.drop('label', axis=1)  \n",
    "y = Data['label']\n",
    "print X.head()\n",
    "print y.head()"
   ]
  },
  {
   "cell_type": "code",
   "execution_count": 3,
   "metadata": {
    "scrolled": true
   },
   "outputs": [
    {
     "name": "stdout",
     "output_type": "stream",
     "text": [
      "('Class -1:', 110316)\n",
      "('Class 1:', 31877)\n",
      "('Proportion:', 3.0, ': 1')\n"
     ]
    },
    {
     "data": {
      "image/png": "[encoded data removed]",
      "text/plain": [
       "<matplotlib.figure.Figure at 0x73abcc0>"
      ]
     },
     "metadata": {},
     "output_type": "display_data"
    }
   ],
   "source": [
    "target_count = Data.label.value_counts()\n",
    "print('Class -1:', target_count[-1])\n",
    "print('Class 1:', target_count[1])\n",
    "print('Proportion:', round(target_count[-1] / target_count[1], 2), ': 1')\n",
    "\n",
    "target_count.plot(kind='bar', title='Count (target)');"
   ]
  },
  {
   "cell_type": "raw",
   "metadata": {},
   "source": [
    "#Resampling\n",
    "A widely adopted technique for dealing with highly unbalanced datasets is called resampling. It consists of removing samples from the majority class (under-sampling) and / or adding more examples from the minority class (over-sampling).\n",
    "Despite the advantage of balancing classes, these techniques also have their weaknesses (there is no free lunch). The simplest implementation of over-sampling is to duplicate random records from the minority class, which can cause overfitting. In under-sampling, the simplest technique involves removing random records from the majority class, which can cause loss of information."
   ]
  },
  {
   "cell_type": "code",
   "execution_count": 4,
   "metadata": {
    "collapsed": true
   },
   "outputs": [],
   "source": [
    "# Class count\n",
    "count_class_N, count_class_P = Data.label.value_counts()\n",
    "\n",
    "# Divide by class\n",
    "Class_N = Data[Data['label'] == -1]\n",
    "Class_P = Data[Data['label'] == 1]\n",
    "#print \"Majority\" \n",
    "#print Class_N\n",
    "#print \"Minority\"\n",
    "#print Class_P"
   ]
  },
  {
   "cell_type": "code",
   "execution_count": 5,
   "metadata": {},
   "outputs": [
    {
     "name": "stdout",
     "output_type": "stream",
     "text": [
      "Random under-sampling:\n",
      "-1    31877\n",
      " 1    31877\n",
      "Name: label, dtype: int64\n"
     ]
    },
    {
     "data": {
      "text/plain": [
       "<matplotlib.axes._subplots.AxesSubplot at 0x113fbf60>"
      ]
     },
     "execution_count": 5,
     "metadata": {},
     "output_type": "execute_result"
    },
    {
     "data": {
      "image/png": "[encoded data removed]",
      "text/plain": [
       "<matplotlib.figure.Figure at 0xd058be0>"
      ]
     },
     "metadata": {},
     "output_type": "display_data"
    }
   ],
   "source": [
    "#Random under-sampling\n",
    "Class_N_under = Class_N.sample(count_class_P)\n",
    "Test_under = pd.concat([Class_N_under, Class_P], axis=0)\n",
    "\n",
    "print('Random under-sampling:')\n",
    "print(Test_under.label.value_counts())\n",
    "\n",
    "Test_under.label.value_counts().plot(kind='bar', title='Count (target)')"
   ]
  },
  {
   "cell_type": "code",
   "execution_count": 6,
   "metadata": {},
   "outputs": [
    {
     "name": "stdout",
     "output_type": "stream",
     "text": [
      "Random over-sampling:\n",
      "-1    110316\n",
      " 1    110316\n",
      "Name: label, dtype: int64\n"
     ]
    },
    {
     "data": {
      "image/png": "[encoded data removed]",
      "text/plain": [
       "<matplotlib.figure.Figure at 0x125a7470>"
      ]
     },
     "metadata": {},
     "output_type": "display_data"
    }
   ],
   "source": [
    "#Random over-sampling\n",
    "Class_P_over = Class_P.sample(count_class_N, replace=True)\n",
    "Test_over = pd.concat([Class_N, Class_P_over], axis=0)\n",
    "\n",
    "print('Random over-sampling:')\n",
    "print(Test_over.label.value_counts())\n",
    "\n",
    "Test_over.label.value_counts().plot(kind='bar', title='Count (target)');"
   ]
  },
  {
   "cell_type": "raw",
   "metadata": {},
   "source": [
    "#Python imbalanced-learn module\n",
    "A number of more sophisticated resapling techniques have been proposed in the scientific literature.\n",
    "\n",
    "For example, we can cluster the records of the majority class, and do the under-sampling by removing records from each cluster, thus seeking to preserve information. In over-sampling, instead of creating exact copies of the minority class records, we can introduce small variations into those copies, creating more diverse synthetic samples.\n",
    "\n",
    "Let's apply some of these resampling techniques, using the Python library imbalanced-learn. It is compatible with scikit-learn and is part of scikit-learn-contrib projects."
   ]
  },
  {
   "cell_type": "raw",
   "metadata": {},
   "source": [
    "import imblearn\n",
    "from sklearn.datasets import make_classification\n",
    "\n",
    "X, y = make_classification(\n",
    "    n_classes=2, class_sep=1.5, weights=[0.9, 0.1],\n",
    "    n_informative=3, n_redundant=1, flip_y=0,\n",
    "    n_features=20, n_clusters_per_class=1,\n",
    "    n_samples=100, random_state=10\n",
    ")\n",
    "\n",
    "df = pd.DataFrame(X)\n",
    "df['label'] = y\n",
    "df.label.value_counts().plot(kind='bar', title='Count (target)');"
   ]
  },
  {
   "cell_type": "raw",
   "metadata": {},
   "source": [
    "def plot_2d_space(X, y, label='Classes'):   \n",
    "    colors = ['#1F77B4', '#FF7F0E']\n",
    "    markers = ['o', 's']\n",
    "    for l, c, m in zip(np.unique(y), colors, markers):\n",
    "        plt.scatter(\n",
    "            X[y==l, 0],\n",
    "            X[y==l, 1],\n",
    "            c=c, label=l, marker=m\n",
    "        )\n",
    "    plt.title(label)\n",
    "    plt.legend(loc='upper right')\n",
    "    plt.show()"
   ]
  },
  {
   "cell_type": "raw",
   "metadata": {},
   "source": [
    "from sklearn.decomposition import PCA\n",
    "\n",
    "pca = PCA(.99)\n",
    "X = pca.fit_transform(X)\n",
    "\n",
    "#plot_2d_space(X, y, 'Imbalanced dataset (2 PCA components)')"
   ]
  },
  {
   "cell_type": "code",
   "execution_count": 15,
   "metadata": {},
   "outputs": [
    {
     "data": {
      "text/html": [
       "<div>\n",
       "<style>\n",
       "    .dataframe thead tr:only-child th {\n",
       "        text-align: right;\n",
       "    }\n",
       "\n",
       "    .dataframe thead th {\n",
       "        text-align: left;\n",
       "    }\n",
       "\n",
       "    .dataframe tbody tr th {\n",
       "        vertical-align: top;\n",
       "    }\n",
       "</style>\n",
       "<table border=\"1\" class=\"dataframe\">\n",
       "  <thead>\n",
       "    <tr style=\"text-align: right;\">\n",
       "      <th></th>\n",
       "      <th>0</th>\n",
       "      <th>1</th>\n",
       "      <th>2</th>\n",
       "      <th>3</th>\n",
       "      <th>4</th>\n",
       "      <th>5</th>\n",
       "      <th>6</th>\n",
       "      <th>7</th>\n",
       "    </tr>\n",
       "  </thead>\n",
       "  <tbody>\n",
       "    <tr>\n",
       "      <th>0</th>\n",
       "      <td>-2.923442</td>\n",
       "      <td>-1.100938</td>\n",
       "      <td>-0.228715</td>\n",
       "      <td>-0.029517</td>\n",
       "      <td>0.902957</td>\n",
       "      <td>-0.169108</td>\n",
       "      <td>0.260673</td>\n",
       "      <td>0.049321</td>\n",
       "    </tr>\n",
       "    <tr>\n",
       "      <th>1</th>\n",
       "      <td>0.182744</td>\n",
       "      <td>0.493470</td>\n",
       "      <td>1.209802</td>\n",
       "      <td>0.513082</td>\n",
       "      <td>0.128927</td>\n",
       "      <td>-0.901801</td>\n",
       "      <td>-0.260684</td>\n",
       "      <td>-0.473720</td>\n",
       "    </tr>\n",
       "    <tr>\n",
       "      <th>2</th>\n",
       "      <td>-0.036294</td>\n",
       "      <td>-0.354917</td>\n",
       "      <td>-1.359103</td>\n",
       "      <td>1.064374</td>\n",
       "      <td>-0.419985</td>\n",
       "      <td>0.278166</td>\n",
       "      <td>-0.193198</td>\n",
       "      <td>-0.552090</td>\n",
       "    </tr>\n",
       "    <tr>\n",
       "      <th>3</th>\n",
       "      <td>-1.118172</td>\n",
       "      <td>-0.214222</td>\n",
       "      <td>1.406648</td>\n",
       "      <td>-1.229279</td>\n",
       "      <td>0.139422</td>\n",
       "      <td>-0.668126</td>\n",
       "      <td>-0.091783</td>\n",
       "      <td>0.106054</td>\n",
       "    </tr>\n",
       "    <tr>\n",
       "      <th>4</th>\n",
       "      <td>3.258934</td>\n",
       "      <td>-2.038741</td>\n",
       "      <td>0.065928</td>\n",
       "      <td>-0.612282</td>\n",
       "      <td>-0.722568</td>\n",
       "      <td>-0.099476</td>\n",
       "      <td>-0.320370</td>\n",
       "      <td>-0.056233</td>\n",
       "    </tr>\n",
       "  </tbody>\n",
       "</table>\n",
       "</div>"
      ],
      "text/plain": [
       "          0         1         2         3         4         5         6  \\\n",
       "0 -2.923442 -1.100938 -0.228715 -0.029517  0.902957 -0.169108  0.260673   \n",
       "1  0.182744  0.493470  1.209802  0.513082  0.128927 -0.901801 -0.260684   \n",
       "2 -0.036294 -0.354917 -1.359103  1.064374 -0.419985  0.278166 -0.193198   \n",
       "3 -1.118172 -0.214222  1.406648 -1.229279  0.139422 -0.668126 -0.091783   \n",
       "4  3.258934 -2.038741  0.065928 -0.612282 -0.722568 -0.099476 -0.320370   \n",
       "\n",
       "          7  \n",
       "0  0.049321  \n",
       "1 -0.473720  \n",
       "2 -0.552090  \n",
       "3  0.106054  \n",
       "4 -0.056233  "
      ]
     },
     "execution_count": 15,
     "metadata": {},
     "output_type": "execute_result"
    }
   ],
   "source": [
    "#Random under-sampling and over-sampling with imbalanced-learn\n",
    "from imblearn.under_sampling import RandomUnderSampler\n",
    "\n",
    "rus = RandomUnderSampler(return_indices=True)\n",
    "X_rus, y_rus, id_rus = rus.fit_sample(X, y)\n",
    "X_rus = pd.DataFrame(X_rus)\n",
    "y_rus = pd.DataFrame(y_rus)\n",
    "\n",
    "#print('Removed indexes:', id_rus)\n",
    "#plot_2d_space(X_rus, y_rus, 'Random under-sampling')\n",
    "\n",
    "X_rus.head()"
   ]
  },
  {
   "cell_type": "code",
   "execution_count": 22,
   "metadata": {},
   "outputs": [
    {
     "data": {
      "text/html": [
       "<div>\n",
       "<style>\n",
       "    .dataframe thead tr:only-child th {\n",
       "        text-align: right;\n",
       "    }\n",
       "\n",
       "    .dataframe thead th {\n",
       "        text-align: left;\n",
       "    }\n",
       "\n",
       "    .dataframe tbody tr th {\n",
       "        vertical-align: top;\n",
       "    }\n",
       "</style>\n",
       "<table border=\"1\" class=\"dataframe\">\n",
       "  <thead>\n",
       "    <tr style=\"text-align: right;\">\n",
       "      <th></th>\n",
       "      <th>0</th>\n",
       "      <th>1</th>\n",
       "      <th>2</th>\n",
       "      <th>3</th>\n",
       "      <th>4</th>\n",
       "      <th>5</th>\n",
       "      <th>6</th>\n",
       "      <th>7</th>\n",
       "    </tr>\n",
       "  </thead>\n",
       "  <tbody>\n",
       "    <tr>\n",
       "      <th>0</th>\n",
       "      <td>1.329162</td>\n",
       "      <td>1.089773</td>\n",
       "      <td>0.154372</td>\n",
       "      <td>1.386960</td>\n",
       "      <td>-0.077080</td>\n",
       "      <td>0.717266</td>\n",
       "      <td>0.698151</td>\n",
       "      <td>-0.844924</td>\n",
       "    </tr>\n",
       "    <tr>\n",
       "      <th>1</th>\n",
       "      <td>1.201544</td>\n",
       "      <td>-0.165625</td>\n",
       "      <td>0.510448</td>\n",
       "      <td>2.212495</td>\n",
       "      <td>-0.873853</td>\n",
       "      <td>-0.776803</td>\n",
       "      <td>0.007917</td>\n",
       "      <td>0.085203</td>\n",
       "    </tr>\n",
       "    <tr>\n",
       "      <th>2</th>\n",
       "      <td>2.188099</td>\n",
       "      <td>0.833814</td>\n",
       "      <td>0.844096</td>\n",
       "      <td>1.261486</td>\n",
       "      <td>0.215900</td>\n",
       "      <td>-0.702896</td>\n",
       "      <td>0.469526</td>\n",
       "      <td>-0.209797</td>\n",
       "    </tr>\n",
       "    <tr>\n",
       "      <th>3</th>\n",
       "      <td>0.827603</td>\n",
       "      <td>-2.096686</td>\n",
       "      <td>0.795512</td>\n",
       "      <td>1.560439</td>\n",
       "      <td>0.562138</td>\n",
       "      <td>0.032131</td>\n",
       "      <td>0.468624</td>\n",
       "      <td>0.029683</td>\n",
       "    </tr>\n",
       "    <tr>\n",
       "      <th>4</th>\n",
       "      <td>1.975079</td>\n",
       "      <td>-0.412035</td>\n",
       "      <td>-1.132834</td>\n",
       "      <td>0.913044</td>\n",
       "      <td>-1.073298</td>\n",
       "      <td>0.954810</td>\n",
       "      <td>0.153818</td>\n",
       "      <td>-0.279111</td>\n",
       "    </tr>\n",
       "  </tbody>\n",
       "</table>\n",
       "</div>"
      ],
      "text/plain": [
       "          0         1         2         3         4         5         6  \\\n",
       "0  1.329162  1.089773  0.154372  1.386960 -0.077080  0.717266  0.698151   \n",
       "1  1.201544 -0.165625  0.510448  2.212495 -0.873853 -0.776803  0.007917   \n",
       "2  2.188099  0.833814  0.844096  1.261486  0.215900 -0.702896  0.469526   \n",
       "3  0.827603 -2.096686  0.795512  1.560439  0.562138  0.032131  0.468624   \n",
       "4  1.975079 -0.412035 -1.132834  0.913044 -1.073298  0.954810  0.153818   \n",
       "\n",
       "          7  \n",
       "0 -0.844924  \n",
       "1  0.085203  \n",
       "2 -0.209797  \n",
       "3  0.029683  \n",
       "4 -0.279111  "
      ]
     },
     "execution_count": 22,
     "metadata": {},
     "output_type": "execute_result"
    }
   ],
   "source": [
    "from imblearn.over_sampling import RandomOverSampler\n",
    "\n",
    "ros = RandomOverSampler()\n",
    "X_ros, y_ros = ros.fit_sample(X, y)\n",
    "X_ros = pd.DataFrame(X_ros)\n",
    "y_ros = pd.DataFrame(y_ros)\n",
    "\n",
    "#print(X_ros.shape[0] - X.shape[0], 'new random picked points')\n",
    "#plot_2d_space(X_ros, y_ros, 'Random over-sampling')\n",
    "\n",
    "X_ros.head()"
   ]
  },
  {
   "cell_type": "raw",
   "metadata": {},
   "source": [
    "#Under-sampling: Tomek links\n",
    "Tomek links are pairs of very close instances, but of opposite classes. Removing the instances of the majority class of each pair increases the space between the two classes, facilitating the classification process.\n",
    "\n",
    "In the code below, we'll use ratio='majority' to resample the majority class."
   ]
  },
  {
   "cell_type": "code",
   "execution_count": 23,
   "metadata": {},
   "outputs": [
    {
     "data": {
      "text/html": [
       "<div>\n",
       "<style>\n",
       "    .dataframe thead tr:only-child th {\n",
       "        text-align: right;\n",
       "    }\n",
       "\n",
       "    .dataframe thead th {\n",
       "        text-align: left;\n",
       "    }\n",
       "\n",
       "    .dataframe tbody tr th {\n",
       "        vertical-align: top;\n",
       "    }\n",
       "</style>\n",
       "<table border=\"1\" class=\"dataframe\">\n",
       "  <thead>\n",
       "    <tr style=\"text-align: right;\">\n",
       "      <th></th>\n",
       "      <th>0</th>\n",
       "      <th>1</th>\n",
       "      <th>2</th>\n",
       "      <th>3</th>\n",
       "      <th>4</th>\n",
       "      <th>5</th>\n",
       "      <th>6</th>\n",
       "      <th>7</th>\n",
       "    </tr>\n",
       "  </thead>\n",
       "  <tbody>\n",
       "    <tr>\n",
       "      <th>0</th>\n",
       "      <td>1.329162</td>\n",
       "      <td>1.089773</td>\n",
       "      <td>0.154372</td>\n",
       "      <td>1.386960</td>\n",
       "      <td>-0.077080</td>\n",
       "      <td>0.717266</td>\n",
       "      <td>0.698151</td>\n",
       "      <td>-0.844924</td>\n",
       "    </tr>\n",
       "    <tr>\n",
       "      <th>1</th>\n",
       "      <td>1.201544</td>\n",
       "      <td>-0.165625</td>\n",
       "      <td>0.510448</td>\n",
       "      <td>2.212495</td>\n",
       "      <td>-0.873853</td>\n",
       "      <td>-0.776803</td>\n",
       "      <td>0.007917</td>\n",
       "      <td>0.085203</td>\n",
       "    </tr>\n",
       "    <tr>\n",
       "      <th>2</th>\n",
       "      <td>2.188099</td>\n",
       "      <td>0.833814</td>\n",
       "      <td>0.844096</td>\n",
       "      <td>1.261486</td>\n",
       "      <td>0.215900</td>\n",
       "      <td>-0.702896</td>\n",
       "      <td>0.469526</td>\n",
       "      <td>-0.209797</td>\n",
       "    </tr>\n",
       "    <tr>\n",
       "      <th>3</th>\n",
       "      <td>0.827603</td>\n",
       "      <td>-2.096686</td>\n",
       "      <td>0.795512</td>\n",
       "      <td>1.560439</td>\n",
       "      <td>0.562138</td>\n",
       "      <td>0.032131</td>\n",
       "      <td>0.468624</td>\n",
       "      <td>0.029683</td>\n",
       "    </tr>\n",
       "    <tr>\n",
       "      <th>4</th>\n",
       "      <td>1.975079</td>\n",
       "      <td>-0.412035</td>\n",
       "      <td>-1.132834</td>\n",
       "      <td>0.913044</td>\n",
       "      <td>-1.073298</td>\n",
       "      <td>0.954810</td>\n",
       "      <td>0.153818</td>\n",
       "      <td>-0.279111</td>\n",
       "    </tr>\n",
       "  </tbody>\n",
       "</table>\n",
       "</div>"
      ],
      "text/plain": [
       "          0         1         2         3         4         5         6  \\\n",
       "0  1.329162  1.089773  0.154372  1.386960 -0.077080  0.717266  0.698151   \n",
       "1  1.201544 -0.165625  0.510448  2.212495 -0.873853 -0.776803  0.007917   \n",
       "2  2.188099  0.833814  0.844096  1.261486  0.215900 -0.702896  0.469526   \n",
       "3  0.827603 -2.096686  0.795512  1.560439  0.562138  0.032131  0.468624   \n",
       "4  1.975079 -0.412035 -1.132834  0.913044 -1.073298  0.954810  0.153818   \n",
       "\n",
       "          7  \n",
       "0 -0.844924  \n",
       "1  0.085203  \n",
       "2 -0.209797  \n",
       "3  0.029683  \n",
       "4 -0.279111  "
      ]
     },
     "execution_count": 23,
     "metadata": {},
     "output_type": "execute_result"
    }
   ],
   "source": [
    "from imblearn.under_sampling import TomekLinks\n",
    "\n",
    "tl = TomekLinks(return_indices=True, ratio='majority')\n",
    "X_tl, y_tl, id_tl = tl.fit_sample(X, y)\n",
    "X_tl = pd.DataFrame(X_tl)\n",
    "y_tl = pd.DataFrame(y_tl)\n",
    "\n",
    "#print('Removed indexes:', id_tl)\n",
    "#plot_2d_space(X_tl, y_tl, 'Tomek links under-sampling')\n",
    "\n",
    "X_tl.head()"
   ]
  },
  {
   "cell_type": "raw",
   "metadata": {},
   "source": [
    "#Under-sampling: Cluster Centroids\n",
    "This technique performs under-sampling by generating centroids based on clustering methods. The data will be previously grouped by similarity, in order to preserve information.\n",
    "\n",
    "In this example we will pass the {0: 10} dict for the parameter ratio, to preserve 10 elements from the majority class (0), and all minority class (1) "
   ]
  },
  {
   "cell_type": "raw",
   "metadata": {},
   "source": [
    "from imblearn.under_sampling import ClusterCentroids\n",
    "\n",
    "cc = ClusterCentroids(ratio={0: 10})\n",
    "X_cc, y_cc = cc.fit_sample(X, y)\n",
    "X_cc = pd.DataFrame(X_cc)\n",
    "y_cc = pd.DataFrame(y_cc)\n",
    "\n",
    "#plot_2d_space(X_cc, y_cc, 'Cluster Centroids under-sampling')\n",
    "\n",
    "X_cc.head()"
   ]
  },
  {
   "cell_type": "raw",
   "metadata": {},
   "source": [
    "#Over-sampling: SMOTE\n",
    "SMOTE (Synthetic Minority Oversampling TEchnique) consists of synthesizing elements for the minority class, based on those that already exist. It works randomly picingk a point from the minority class and computing the k-nearest neighbors for this point. The synthetic points are added between the chosen point and its neighbors.\n",
    "\n",
    "We'll use ratio='minority' to resample the minority class."
   ]
  },
  {
   "cell_type": "code",
   "execution_count": 28,
   "metadata": {},
   "outputs": [
    {
     "data": {
      "text/html": [
       "<div>\n",
       "<style>\n",
       "    .dataframe thead tr:only-child th {\n",
       "        text-align: right;\n",
       "    }\n",
       "\n",
       "    .dataframe thead th {\n",
       "        text-align: left;\n",
       "    }\n",
       "\n",
       "    .dataframe tbody tr th {\n",
       "        vertical-align: top;\n",
       "    }\n",
       "</style>\n",
       "<table border=\"1\" class=\"dataframe\">\n",
       "  <thead>\n",
       "    <tr style=\"text-align: right;\">\n",
       "      <th></th>\n",
       "      <th>0</th>\n",
       "      <th>1</th>\n",
       "      <th>2</th>\n",
       "      <th>3</th>\n",
       "      <th>4</th>\n",
       "      <th>5</th>\n",
       "      <th>6</th>\n",
       "      <th>7</th>\n",
       "    </tr>\n",
       "  </thead>\n",
       "  <tbody>\n",
       "    <tr>\n",
       "      <th>0</th>\n",
       "      <td>1.329162</td>\n",
       "      <td>1.089773</td>\n",
       "      <td>0.154372</td>\n",
       "      <td>1.386960</td>\n",
       "      <td>-0.077080</td>\n",
       "      <td>0.717266</td>\n",
       "      <td>0.698151</td>\n",
       "      <td>-0.844924</td>\n",
       "    </tr>\n",
       "    <tr>\n",
       "      <th>1</th>\n",
       "      <td>1.201544</td>\n",
       "      <td>-0.165625</td>\n",
       "      <td>0.510448</td>\n",
       "      <td>2.212495</td>\n",
       "      <td>-0.873853</td>\n",
       "      <td>-0.776803</td>\n",
       "      <td>0.007917</td>\n",
       "      <td>0.085203</td>\n",
       "    </tr>\n",
       "    <tr>\n",
       "      <th>2</th>\n",
       "      <td>2.188099</td>\n",
       "      <td>0.833814</td>\n",
       "      <td>0.844096</td>\n",
       "      <td>1.261486</td>\n",
       "      <td>0.215900</td>\n",
       "      <td>-0.702896</td>\n",
       "      <td>0.469526</td>\n",
       "      <td>-0.209797</td>\n",
       "    </tr>\n",
       "    <tr>\n",
       "      <th>3</th>\n",
       "      <td>0.827603</td>\n",
       "      <td>-2.096686</td>\n",
       "      <td>0.795512</td>\n",
       "      <td>1.560439</td>\n",
       "      <td>0.562138</td>\n",
       "      <td>0.032131</td>\n",
       "      <td>0.468624</td>\n",
       "      <td>0.029683</td>\n",
       "    </tr>\n",
       "    <tr>\n",
       "      <th>4</th>\n",
       "      <td>1.975079</td>\n",
       "      <td>-0.412035</td>\n",
       "      <td>-1.132834</td>\n",
       "      <td>0.913044</td>\n",
       "      <td>-1.073298</td>\n",
       "      <td>0.954810</td>\n",
       "      <td>0.153818</td>\n",
       "      <td>-0.279111</td>\n",
       "    </tr>\n",
       "  </tbody>\n",
       "</table>\n",
       "</div>"
      ],
      "text/plain": [
       "          0         1         2         3         4         5         6  \\\n",
       "0  1.329162  1.089773  0.154372  1.386960 -0.077080  0.717266  0.698151   \n",
       "1  1.201544 -0.165625  0.510448  2.212495 -0.873853 -0.776803  0.007917   \n",
       "2  2.188099  0.833814  0.844096  1.261486  0.215900 -0.702896  0.469526   \n",
       "3  0.827603 -2.096686  0.795512  1.560439  0.562138  0.032131  0.468624   \n",
       "4  1.975079 -0.412035 -1.132834  0.913044 -1.073298  0.954810  0.153818   \n",
       "\n",
       "          7  \n",
       "0 -0.844924  \n",
       "1  0.085203  \n",
       "2 -0.209797  \n",
       "3  0.029683  \n",
       "4 -0.279111  "
      ]
     },
     "execution_count": 28,
     "metadata": {},
     "output_type": "execute_result"
    }
   ],
   "source": [
    "from imblearn.over_sampling import SMOTE\n",
    "\n",
    "smote = SMOTE(ratio='minority')\n",
    "X_sm, y_sm = smote.fit_sample(X, y)\n",
    "X_sm = pd.DataFrame(X_sm)\n",
    "y_sm = pd.DataFrame(y_sm)\n",
    "\n",
    "#plot_2d_space(X_sm, y_sm, 'SMOTE over-sampling')\n",
    "X_sm.head()"
   ]
  },
  {
   "cell_type": "raw",
   "metadata": {},
   "source": [
    "#Over-sampling followed by under-sampling\n",
    "Now, we will do a combination of over-sampling and under-sampling, using the SMOTE and Tomek links techniques:"
   ]
  },
  {
   "cell_type": "code",
   "execution_count": 29,
   "metadata": {},
   "outputs": [
    {
     "data": {
      "text/html": [
       "<div>\n",
       "<style>\n",
       "    .dataframe thead tr:only-child th {\n",
       "        text-align: right;\n",
       "    }\n",
       "\n",
       "    .dataframe thead th {\n",
       "        text-align: left;\n",
       "    }\n",
       "\n",
       "    .dataframe tbody tr th {\n",
       "        vertical-align: top;\n",
       "    }\n",
       "</style>\n",
       "<table border=\"1\" class=\"dataframe\">\n",
       "  <thead>\n",
       "    <tr style=\"text-align: right;\">\n",
       "      <th></th>\n",
       "      <th>0</th>\n",
       "      <th>1</th>\n",
       "      <th>2</th>\n",
       "      <th>3</th>\n",
       "      <th>4</th>\n",
       "      <th>5</th>\n",
       "      <th>6</th>\n",
       "      <th>7</th>\n",
       "    </tr>\n",
       "  </thead>\n",
       "  <tbody>\n",
       "    <tr>\n",
       "      <th>0</th>\n",
       "      <td>1.329162</td>\n",
       "      <td>1.089773</td>\n",
       "      <td>0.154372</td>\n",
       "      <td>1.386960</td>\n",
       "      <td>-0.077080</td>\n",
       "      <td>0.717266</td>\n",
       "      <td>0.698151</td>\n",
       "      <td>-0.844924</td>\n",
       "    </tr>\n",
       "    <tr>\n",
       "      <th>1</th>\n",
       "      <td>1.201544</td>\n",
       "      <td>-0.165625</td>\n",
       "      <td>0.510448</td>\n",
       "      <td>2.212495</td>\n",
       "      <td>-0.873853</td>\n",
       "      <td>-0.776803</td>\n",
       "      <td>0.007917</td>\n",
       "      <td>0.085203</td>\n",
       "    </tr>\n",
       "    <tr>\n",
       "      <th>2</th>\n",
       "      <td>2.188099</td>\n",
       "      <td>0.833814</td>\n",
       "      <td>0.844096</td>\n",
       "      <td>1.261486</td>\n",
       "      <td>0.215900</td>\n",
       "      <td>-0.702896</td>\n",
       "      <td>0.469526</td>\n",
       "      <td>-0.209797</td>\n",
       "    </tr>\n",
       "    <tr>\n",
       "      <th>3</th>\n",
       "      <td>0.827603</td>\n",
       "      <td>-2.096686</td>\n",
       "      <td>0.795512</td>\n",
       "      <td>1.560439</td>\n",
       "      <td>0.562138</td>\n",
       "      <td>0.032131</td>\n",
       "      <td>0.468624</td>\n",
       "      <td>0.029683</td>\n",
       "    </tr>\n",
       "    <tr>\n",
       "      <th>4</th>\n",
       "      <td>1.975079</td>\n",
       "      <td>-0.412035</td>\n",
       "      <td>-1.132834</td>\n",
       "      <td>0.913044</td>\n",
       "      <td>-1.073298</td>\n",
       "      <td>0.954810</td>\n",
       "      <td>0.153818</td>\n",
       "      <td>-0.279111</td>\n",
       "    </tr>\n",
       "  </tbody>\n",
       "</table>\n",
       "</div>"
      ],
      "text/plain": [
       "          0         1         2         3         4         5         6  \\\n",
       "0  1.329162  1.089773  0.154372  1.386960 -0.077080  0.717266  0.698151   \n",
       "1  1.201544 -0.165625  0.510448  2.212495 -0.873853 -0.776803  0.007917   \n",
       "2  2.188099  0.833814  0.844096  1.261486  0.215900 -0.702896  0.469526   \n",
       "3  0.827603 -2.096686  0.795512  1.560439  0.562138  0.032131  0.468624   \n",
       "4  1.975079 -0.412035 -1.132834  0.913044 -1.073298  0.954810  0.153818   \n",
       "\n",
       "          7  \n",
       "0 -0.844924  \n",
       "1  0.085203  \n",
       "2 -0.209797  \n",
       "3  0.029683  \n",
       "4 -0.279111  "
      ]
     },
     "execution_count": 29,
     "metadata": {},
     "output_type": "execute_result"
    }
   ],
   "source": [
    "from imblearn.combine import SMOTETomek\n",
    "\n",
    "smt = SMOTETomek(ratio='auto')\n",
    "X_smt, y_smt = smt.fit_sample(X, y)\n",
    "X_smt= pd.DataFrame(X_smt)\n",
    "y_smt = pd.DataFrame(y_smt)\n",
    "\n",
    "#plot_2d_space(X_smt, y_smt, 'SMOTE + Tomek links')\n",
    "X_smt.head()"
   ]
  },
  {
   "cell_type": "raw",
   "metadata": {},
   "source": [
    "Recommended reading\n",
    "The imbalanced-learn documentation:\n",
    "http://contrib.scikit-learn.org/imbalanced-learn/stable/index.html\n",
    "\n",
    "The imbalanced-learn GitHub:\n",
    "https://github.com/scikit-learn-contrib/imbalanced-learn\n",
    "\n",
    "Comparison of the combination of over- and under-sampling algorithms:\n",
    "http://contrib.scikit-learn.org/imbalanced-learn/stable/auto_examples/combine/plot_comparison_combine.html\n",
    "\n",
    "Chawla, Nitesh V., et al. \"SMOTE: synthetic minority over-sampling technique.\" Journal of artificial intelligence research 16 (2002):\n",
    "https://www.jair.org/media/953/live-953-2037-jair.pdf"
   ]
  },
  {
   "cell_type": "code",
   "execution_count": 30,
   "metadata": {
    "collapsed": true
   },
   "outputs": [],
   "source": [
    "X = X_sm\n",
    "y = y_sm"
   ]
  },
  {
   "cell_type": "code",
   "execution_count": 31,
   "metadata": {
    "collapsed": true
   },
   "outputs": [],
   "source": [
    "#Divide data into training and test sets\n",
    "from sklearn.model_selection import train_test_split\n",
    "\n",
    "#P stands for Primary sets \n",
    "X_train_p, X_test_p, y_train_p, y_test_p = train_test_split(X, y, test_size = 0.20) "
   ]
  },
  {
   "cell_type": "code",
   "execution_count": 33,
   "metadata": {},
   "outputs": [
    {
     "name": "stdout",
     "output_type": "stream",
     "text": [
      "(176505, 8)\n",
      "Training data\n",
      "(44127, 8)\n",
      "Test data\n"
     ]
    }
   ],
   "source": [
    "X_train = X_train_p\n",
    "X_test = X_test_p\n",
    "y_train = y_train_p\n",
    "y_test = y_test_p \n",
    "\n",
    "X_train = pd.DataFrame(X_train)\n",
    "#Adding name for the columns\n",
    "X_train.columns =  ['P1', 'P2','P3','P4','P5','P6','P7','P8']\n",
    "\n",
    "X_train = X_train.reset_index()\n",
    "X_train = X_train.drop('index', axis=1)                            \n",
    "print X_train.shape\n",
    "print \"Training data\"\n",
    "#print X_train.head()\n",
    "\n",
    "X_test = pd.DataFrame(X_test)\n",
    "X_test.columns =  ['P1', 'P2','P3','P4','P5','P6','P7','P8']\n",
    "\n",
    "X_test = X_test.reset_index()\n",
    "X_test = X_test.drop('index', axis=1)                             \n",
    "print X_test.shape\n",
    "print \"Test data\"\n",
    "#print X_test.head()"
   ]
  },
  {
   "cell_type": "code",
   "execution_count": 34,
   "metadata": {},
   "outputs": [
    {
     "name": "stderr",
     "output_type": "stream",
     "text": [
      "C:\\Users\\Mantre\\Anaconda2\\lib\\site-packages\\sklearn\\utils\\validation.py:578: DataConversionWarning: A column-vector y was passed when a 1d array was expected. Please change the shape of y to (n_samples, ), for example using ravel().\n",
      "  y = column_or_1d(y, warn=True)\n"
     ]
    }
   ],
   "source": [
    "#Gaussian Kernel\n",
    "\n",
    "from sklearn.svm import SVC  \n",
    "\n",
    "svclassifier = SVC(kernel='rbf', C= 10, gamma = 0.1 )   \n",
    "svclassifier.fit(X_train, y_train) \n",
    "\n",
    "#Making predictions\n",
    "y_pred = svclassifier.predict(X_test) "
   ]
  },
  {
   "cell_type": "code",
   "execution_count": 35,
   "metadata": {},
   "outputs": [
    {
     "data": {
      "image/png": "[encoded data removed]",
      "text/plain": [
       "<matplotlib.figure.Figure at 0x13d34da0>"
      ]
     },
     "metadata": {},
     "output_type": "display_data"
    }
   ],
   "source": [
    "from sklearn.metrics import roc_curve, auc\n",
    "fpr, tpr, thresholds = roc_curve(y_pred, y_test)\n",
    "roc_auc = auc(fpr, tpr)\n",
    "\n",
    "plt.figure()\n",
    "plt.plot(fpr, tpr, color='darkorange', lw=1, label='ROC curve (area = %0.2f)' % roc_auc)\n",
    "plt.plot([0, 1], [0, 1], color='navy', lw=1, linestyle='--')\n",
    "plt.xlim([0.0, 1.0])\n",
    "plt.ylim([0.0, 1.05])\n",
    "plt.xlabel('False Positive Rate')\n",
    "plt.ylabel('True Positive Rate')\n",
    "plt.title('Receiver operating characteristic')\n",
    "plt.legend(loc=\"lower right\")\n",
    "plt.show()"
   ]
  },
  {
   "cell_type": "code",
   "execution_count": 36,
   "metadata": {},
   "outputs": [
    {
     "ename": "NameError",
     "evalue": "name 'metrics' is not defined",
     "output_type": "error",
     "traceback": [
      "\u001b[1;31m---------------------------------------------------------------------------\u001b[0m",
      "\u001b[1;31mNameError\u001b[0m                                 Traceback (most recent call last)",
      "\u001b[1;32m<ipython-input-36-9e3cc56f023e>\u001b[0m in \u001b[0;36m<module>\u001b[1;34m()\u001b[0m\n\u001b[0;32m      1\u001b[0m \u001b[1;31m# Model Accuracy: how often is the classifier correct?\u001b[0m\u001b[1;33m\u001b[0m\u001b[1;33m\u001b[0m\u001b[0m\n\u001b[1;32m----> 2\u001b[1;33m \u001b[0mSVM_RBF_test_accuracy\u001b[0m \u001b[1;33m=\u001b[0m \u001b[0mmetrics\u001b[0m\u001b[1;33m.\u001b[0m\u001b[0maccuracy_score\u001b[0m\u001b[1;33m(\u001b[0m\u001b[0my_test\u001b[0m\u001b[1;33m,\u001b[0m \u001b[0my_pred\u001b[0m\u001b[1;33m)\u001b[0m\u001b[1;33m\u001b[0m\u001b[0m\n\u001b[0m\u001b[0;32m      3\u001b[0m \u001b[1;32mprint\u001b[0m\u001b[1;33m(\u001b[0m\u001b[1;34m\"Accuracy:\"\u001b[0m\u001b[1;33m,\u001b[0m\u001b[0mmetrics\u001b[0m\u001b[1;33m.\u001b[0m\u001b[0maccuracy_score\u001b[0m\u001b[1;33m(\u001b[0m\u001b[0my_test\u001b[0m\u001b[1;33m,\u001b[0m \u001b[0my_pred\u001b[0m\u001b[1;33m)\u001b[0m\u001b[1;33m)\u001b[0m\u001b[1;33m\u001b[0m\u001b[0m\n\u001b[0;32m      4\u001b[0m \u001b[1;33m\u001b[0m\u001b[0m\n\u001b[0;32m      5\u001b[0m \u001b[1;31m# Model Precision: what percentage of positive tuples are labeled as such?\u001b[0m\u001b[1;33m\u001b[0m\u001b[1;33m\u001b[0m\u001b[0m\n",
      "\u001b[1;31mNameError\u001b[0m: name 'metrics' is not defined"
     ]
    }
   ],
   "source": [
    "# Model Accuracy: how often is the classifier correct?\n",
    "SVM_RBF_test_accuracy = metrics.accuracy_score(y_test, y_pred)\n",
    "print(\"Accuracy:\",metrics.accuracy_score(y_test, y_pred))\n",
    "\n",
    "# Model Precision: what percentage of positive tuples are labeled as such?\n",
    "SVM_RBF_test_precision = metrics.precision_score(y_test, y_pred)\n",
    "print(\"Precision:\",metrics.precision_score(y_test, y_pred))\n",
    "\n",
    "# Model Recall: what percentage of positive tuples are labelled as such?\n",
    "SVM_RBF_test_recall = metrics.recall_score(y_test, y_pred)\n",
    "print(\"Recall:\",metrics.recall_score(y_test, y_pred))\n",
    "\n",
    "#Model F-measure:Compute the F1 score, also known as balanced F-score or F-measure\n",
    "F1 = 2 * (metrics.precision_score(y_test, y_pred) * metrics.recall_score\n",
    "          (y_test, y_pred)) / (metrics.precision_score(y_test, y_pred) + metrics.recall_score(y_test, y_pred))\n",
    "SVM_RBF_test_f1 = F1\n",
    "print ('F-Measure:', F1)\n",
    "\n",
    "#Model G-mean\n",
    "SVM_RBF_test_Gmean = geometric_mean_score(y_test, y_pred)\n",
    "print ('Geometric mean:', geometric_mean_score(y_test, y_pred))\n",
    "print \"*******************************************\"\n",
    "#Evaluating the results\n",
    "\"\"\"Confusion matrix, precision, recall, and F1 measures  \n",
    "are the most commonly used metrics for classification tasks\"\"\"\n",
    "\n",
    "target_names = ['class 0', 'class 1']\n",
    "print(classification_report_imbalanced(y_test, y_pred,     target_names=target_names))\n",
    "print \"*******************************************\"\n",
    "\n",
    "#Confusion matrix using pyplot \n",
    "cm_SVC_RBF = confusion_matrix(y_test, y_pred)\n",
    "sb.set(style=\"whitegrid\",font='sans-serif', font_scale=1.3)\n",
    "ax= plt.subplot()\n",
    "sb.heatmap(cm_SVC_RBF, annot=True, ax = ax, cmap='coolwarm',fmt='g',linewidths=0.5 ) #annot=True to annotate cells"
   ]
  },
  {
   "cell_type": "code",
   "execution_count": null,
   "metadata": {
    "collapsed": true
   },
   "outputs": [],
   "source": []
  }
 ],
 "metadata": {
  "kernelspec": {
   "display_name": "Python 3",
   "language": "python",
   "name": "python3"
  },
  "language_info": {
   "codemirror_mode": {
    "name": "ipython",
    "version": 3
   },
   "file_extension": ".py",
   "mimetype": "text/x-python",
   "name": "python",
   "nbconvert_exporter": "python",
   "pygments_lexer": "ipython3",
   "version": "3.7.6"
  }
 },
 "nbformat": 4,
 "nbformat_minor": 2
}
