{
 "cells": [
  {
   "cell_type": "code",
   "execution_count": 1,
   "metadata": {
    "collapsed": true
   },
   "outputs": [],
   "source": [
    "#Importing packages\n",
    "import numpy as np\n",
    "import pandas as pd\n",
    "import seaborn as sb\n",
    "#import category_encoders as ce\n",
    "import matplotlib.pyplot as plt\n",
    "import pylab as pl\n",
    "from pandas import ExcelFile\n",
    "import xlrd\n",
    "from sklearn import preprocessing\n",
    "\n",
    "%matplotlib inline"
   ]
  },
  {
   "cell_type": "code",
   "execution_count": 2,
   "metadata": {},
   "outputs": [
    {
     "name": "stdout",
     "output_type": "stream",
     "text": [
      "The file name is : WeatherAUS-Draft.xlsx\n",
      "The sheet's name is: Data\n",
      "The matrix size is: (142193, 14)\n",
      "The file has: 1990702 data points.\n",
      "*******************************************\n",
      "(142193, 14)\n",
      "<class 'pandas.core.frame.DataFrame'>\n",
      "RangeIndex: 142193 entries, 0 to 142192\n",
      "Data columns (total 14 columns):\n",
      "label    142193 non-null int64\n",
      "P1       142193 non-null float64\n",
      "P2       142193 non-null float64\n",
      "P3       142193 non-null float64\n",
      "P4       142193 non-null float64\n",
      "P5       142193 non-null float64\n",
      "P6       142193 non-null float64\n",
      "P7       142193 non-null float64\n",
      "P8       142193 non-null float64\n",
      "P9       142193 non-null float64\n",
      "P10      142193 non-null float64\n",
      "P11      142193 non-null float64\n",
      "P12      142193 non-null float64\n",
      "P13      142193 non-null int64\n",
      "dtypes: float64(12), int64(2)\n",
      "memory usage: 15.2 MB\n",
      "None\n",
      "*******************************************\n"
     ]
    },
    {
     "data": {
      "text/html": [
       "<div>\n",
       "<style>\n",
       "    .dataframe thead tr:only-child th {\n",
       "        text-align: right;\n",
       "    }\n",
       "\n",
       "    .dataframe thead th {\n",
       "        text-align: left;\n",
       "    }\n",
       "\n",
       "    .dataframe tbody tr th {\n",
       "        vertical-align: top;\n",
       "    }\n",
       "</style>\n",
       "<table border=\"1\" class=\"dataframe\">\n",
       "  <thead>\n",
       "    <tr style=\"text-align: right;\">\n",
       "      <th></th>\n",
       "      <th>label</th>\n",
       "      <th>P1</th>\n",
       "      <th>P2</th>\n",
       "      <th>P3</th>\n",
       "      <th>P4</th>\n",
       "      <th>P5</th>\n",
       "      <th>P6</th>\n",
       "      <th>P7</th>\n",
       "      <th>P8</th>\n",
       "      <th>P9</th>\n",
       "      <th>P10</th>\n",
       "      <th>P11</th>\n",
       "      <th>P12</th>\n",
       "      <th>P13</th>\n",
       "    </tr>\n",
       "  </thead>\n",
       "  <tbody>\n",
       "    <tr>\n",
       "      <th>0</th>\n",
       "      <td>-1</td>\n",
       "      <td>13.4</td>\n",
       "      <td>22.9</td>\n",
       "      <td>0.6</td>\n",
       "      <td>44.0</td>\n",
       "      <td>20.0</td>\n",
       "      <td>24.0</td>\n",
       "      <td>71.0</td>\n",
       "      <td>22.0</td>\n",
       "      <td>1007.7</td>\n",
       "      <td>1007.1</td>\n",
       "      <td>16.9</td>\n",
       "      <td>21.8</td>\n",
       "      <td>-1</td>\n",
       "    </tr>\n",
       "    <tr>\n",
       "      <th>1</th>\n",
       "      <td>-1</td>\n",
       "      <td>7.4</td>\n",
       "      <td>25.1</td>\n",
       "      <td>0.0</td>\n",
       "      <td>44.0</td>\n",
       "      <td>4.0</td>\n",
       "      <td>22.0</td>\n",
       "      <td>44.0</td>\n",
       "      <td>25.0</td>\n",
       "      <td>1010.6</td>\n",
       "      <td>1007.8</td>\n",
       "      <td>17.2</td>\n",
       "      <td>24.3</td>\n",
       "      <td>-1</td>\n",
       "    </tr>\n",
       "    <tr>\n",
       "      <th>2</th>\n",
       "      <td>-1</td>\n",
       "      <td>12.9</td>\n",
       "      <td>25.7</td>\n",
       "      <td>0.0</td>\n",
       "      <td>46.0</td>\n",
       "      <td>19.0</td>\n",
       "      <td>26.0</td>\n",
       "      <td>38.0</td>\n",
       "      <td>30.0</td>\n",
       "      <td>1007.6</td>\n",
       "      <td>1008.7</td>\n",
       "      <td>21.0</td>\n",
       "      <td>23.2</td>\n",
       "      <td>-1</td>\n",
       "    </tr>\n",
       "    <tr>\n",
       "      <th>3</th>\n",
       "      <td>-1</td>\n",
       "      <td>9.2</td>\n",
       "      <td>28.0</td>\n",
       "      <td>0.0</td>\n",
       "      <td>24.0</td>\n",
       "      <td>11.0</td>\n",
       "      <td>9.0</td>\n",
       "      <td>45.0</td>\n",
       "      <td>16.0</td>\n",
       "      <td>1017.6</td>\n",
       "      <td>1012.8</td>\n",
       "      <td>18.1</td>\n",
       "      <td>26.5</td>\n",
       "      <td>-1</td>\n",
       "    </tr>\n",
       "    <tr>\n",
       "      <th>4</th>\n",
       "      <td>-1</td>\n",
       "      <td>17.5</td>\n",
       "      <td>32.3</td>\n",
       "      <td>1.0</td>\n",
       "      <td>41.0</td>\n",
       "      <td>7.0</td>\n",
       "      <td>20.0</td>\n",
       "      <td>82.0</td>\n",
       "      <td>33.0</td>\n",
       "      <td>1010.8</td>\n",
       "      <td>1006.0</td>\n",
       "      <td>17.8</td>\n",
       "      <td>29.7</td>\n",
       "      <td>-1</td>\n",
       "    </tr>\n",
       "  </tbody>\n",
       "</table>\n",
       "</div>"
      ],
      "text/plain": [
       "   label    P1    P2   P3    P4    P5    P6    P7    P8      P9     P10   P11  \\\n",
       "0     -1  13.4  22.9  0.6  44.0  20.0  24.0  71.0  22.0  1007.7  1007.1  16.9   \n",
       "1     -1   7.4  25.1  0.0  44.0   4.0  22.0  44.0  25.0  1010.6  1007.8  17.2   \n",
       "2     -1  12.9  25.7  0.0  46.0  19.0  26.0  38.0  30.0  1007.6  1008.7  21.0   \n",
       "3     -1   9.2  28.0  0.0  24.0  11.0   9.0  45.0  16.0  1017.6  1012.8  18.1   \n",
       "4     -1  17.5  32.3  1.0  41.0   7.0  20.0  82.0  33.0  1010.8  1006.0  17.8   \n",
       "\n",
       "    P12  P13  \n",
       "0  21.8   -1  \n",
       "1  24.3   -1  \n",
       "2  23.2   -1  \n",
       "3  26.5   -1  \n",
       "4  29.7   -1  "
      ]
     },
     "execution_count": 2,
     "metadata": {},
     "output_type": "execute_result"
    }
   ],
   "source": [
    "#Openning Excel sheet and importing the data\n",
    "\"\"\"\n",
    "Open files and create the data frame from the excel sheet.\n",
    "there are 24 columns and 142193 observations.\n",
    "\"\"\"\n",
    "#Assign spreadsheet file name to 'file'.\n",
    "file = 'WeatherAUS-Draft.xlsx'\n",
    "\n",
    "#Load spreadsheet.\n",
    "Excel_File = pd.ExcelFile (file)\n",
    "print \"The file name is :\", file\n",
    "print \"The sheet's name is:\", \"Data\"\n",
    "\n",
    "#Load a sheet into a dataframe by name Data:\n",
    "Data = Excel_File.parse('Data')\n",
    "print \"The matrix size is:\", np.shape (Data)\n",
    "print \"The file has:\", np.size (Data), \"data points.\"\n",
    "print \"*******************************************\"\n",
    "#Exploratory data analysis\n",
    "print Data.shape\n",
    "Data.head()\n",
    "print Data.info()\n",
    "print \"*******************************************\"\n",
    "Data.head()"
   ]
  },
  {
   "cell_type": "code",
   "execution_count": 3,
   "metadata": {},
   "outputs": [
    {
     "name": "stdout",
     "output_type": "stream",
     "text": [
      "     P1    P2   P3    P4    P5    P6    P7    P8      P9     P10   P11   P12  \\\n",
      "0  13.4  22.9  0.6  44.0  20.0  24.0  71.0  22.0  1007.7  1007.1  16.9  21.8   \n",
      "1   7.4  25.1  0.0  44.0   4.0  22.0  44.0  25.0  1010.6  1007.8  17.2  24.3   \n",
      "2  12.9  25.7  0.0  46.0  19.0  26.0  38.0  30.0  1007.6  1008.7  21.0  23.2   \n",
      "3   9.2  28.0  0.0  24.0  11.0   9.0  45.0  16.0  1017.6  1012.8  18.1  26.5   \n",
      "4  17.5  32.3  1.0  41.0   7.0  20.0  82.0  33.0  1010.8  1006.0  17.8  29.7   \n",
      "\n",
      "   P13  \n",
      "0   -1  \n",
      "1   -1  \n",
      "2   -1  \n",
      "3   -1  \n",
      "4   -1  \n",
      "0   -1\n",
      "1   -1\n",
      "2   -1\n",
      "3   -1\n",
      "4   -1\n",
      "Name: label, dtype: int64\n"
     ]
    },
    {
     "data": {
      "image/png": "[encoded data removed]",
      "text/plain": [
       "<matplotlib.figure.Figure at 0x1550bc18>"
      ]
     },
     "metadata": {},
     "output_type": "display_data"
    }
   ],
   "source": [
    "#Data\n",
    "X = Data.drop('label', axis=1)  \n",
    "y = Data['label']\n",
    "print X.head()\n",
    "print y.head()\n",
    "#PLots\n",
    "plt.plot(X) \n",
    "plt.show()"
   ]
  },
  {
   "cell_type": "code",
   "execution_count": 4,
   "metadata": {},
   "outputs": [
    {
     "name": "stdout",
     "output_type": "stream",
     "text": [
      "StandardScaler(copy=True, with_mean=True, with_std=True)\n"
     ]
    },
    {
     "data": {
      "text/html": [
       "<div>\n",
       "<style>\n",
       "    .dataframe thead tr:only-child th {\n",
       "        text-align: right;\n",
       "    }\n",
       "\n",
       "    .dataframe thead th {\n",
       "        text-align: left;\n",
       "    }\n",
       "\n",
       "    .dataframe tbody tr th {\n",
       "        vertical-align: top;\n",
       "    }\n",
       "</style>\n",
       "<table border=\"1\" class=\"dataframe\">\n",
       "  <thead>\n",
       "    <tr style=\"text-align: right;\">\n",
       "      <th></th>\n",
       "      <th>MinTemp</th>\n",
       "      <th>MaxTemp</th>\n",
       "      <th>Rainfall</th>\n",
       "      <th>WindGustSpeed</th>\n",
       "      <th>WindSpeed9am</th>\n",
       "      <th>WindSpeed3pm</th>\n",
       "      <th>Humidity9am</th>\n",
       "      <th>Humidity3pm</th>\n",
       "      <th>Pressure9am</th>\n",
       "      <th>Pressure3pm</th>\n",
       "      <th>Temp9am</th>\n",
       "      <th>Temp3pm</th>\n",
       "      <th>RainToday</th>\n",
       "    </tr>\n",
       "  </thead>\n",
       "  <tbody>\n",
       "    <tr>\n",
       "      <th>0</th>\n",
       "      <td>0.189954</td>\n",
       "      <td>-0.045964</td>\n",
       "      <td>-0.207757</td>\n",
       "      <td>0.305648</td>\n",
       "      <td>0.677661</td>\n",
       "      <td>0.614850</td>\n",
       "      <td>0.113891</td>\n",
       "      <td>-1.435935</td>\n",
       "      <td>-1.475456</td>\n",
       "      <td>-1.220966</td>\n",
       "      <td>-0.013521</td>\n",
       "      <td>0.016412</td>\n",
       "      <td>-0.532962</td>\n",
       "    </tr>\n",
       "    <tr>\n",
       "      <th>1</th>\n",
       "      <td>-0.749174</td>\n",
       "      <td>0.263480</td>\n",
       "      <td>-0.278989</td>\n",
       "      <td>0.305648</td>\n",
       "      <td>-1.130034</td>\n",
       "      <td>0.385532</td>\n",
       "      <td>-1.312265</td>\n",
       "      <td>-1.289821</td>\n",
       "      <td>-1.045586</td>\n",
       "      <td>-1.116203</td>\n",
       "      <td>0.032832</td>\n",
       "      <td>0.380274</td>\n",
       "      <td>-0.532962</td>\n",
       "    </tr>\n",
       "    <tr>\n",
       "      <th>2</th>\n",
       "      <td>0.111694</td>\n",
       "      <td>0.347873</td>\n",
       "      <td>-0.278989</td>\n",
       "      <td>0.457874</td>\n",
       "      <td>0.564680</td>\n",
       "      <td>0.844167</td>\n",
       "      <td>-1.629188</td>\n",
       "      <td>-1.046299</td>\n",
       "      <td>-1.490279</td>\n",
       "      <td>-0.981508</td>\n",
       "      <td>0.619963</td>\n",
       "      <td>0.220175</td>\n",
       "      <td>-0.532962</td>\n",
       "    </tr>\n",
       "    <tr>\n",
       "      <th>3</th>\n",
       "      <td>-0.467436</td>\n",
       "      <td>0.671383</td>\n",
       "      <td>-0.278989</td>\n",
       "      <td>-1.216614</td>\n",
       "      <td>-0.339167</td>\n",
       "      <td>-1.105034</td>\n",
       "      <td>-1.259444</td>\n",
       "      <td>-1.728162</td>\n",
       "      <td>-0.007969</td>\n",
       "      <td>-0.367897</td>\n",
       "      <td>0.171889</td>\n",
       "      <td>0.700472</td>\n",
       "      <td>-0.532962</td>\n",
       "    </tr>\n",
       "    <tr>\n",
       "      <th>4</th>\n",
       "      <td>0.831692</td>\n",
       "      <td>1.276205</td>\n",
       "      <td>-0.160269</td>\n",
       "      <td>0.077309</td>\n",
       "      <td>-0.791091</td>\n",
       "      <td>0.156214</td>\n",
       "      <td>0.694918</td>\n",
       "      <td>-0.900186</td>\n",
       "      <td>-1.015940</td>\n",
       "      <td>-1.385593</td>\n",
       "      <td>0.125537</td>\n",
       "      <td>1.166215</td>\n",
       "      <td>-0.532962</td>\n",
       "    </tr>\n",
       "  </tbody>\n",
       "</table>\n",
       "</div>"
      ],
      "text/plain": [
       "    MinTemp   MaxTemp  Rainfall  WindGustSpeed  WindSpeed9am  WindSpeed3pm  \\\n",
       "0  0.189954 -0.045964 -0.207757       0.305648      0.677661      0.614850   \n",
       "1 -0.749174  0.263480 -0.278989       0.305648     -1.130034      0.385532   \n",
       "2  0.111694  0.347873 -0.278989       0.457874      0.564680      0.844167   \n",
       "3 -0.467436  0.671383 -0.278989      -1.216614     -0.339167     -1.105034   \n",
       "4  0.831692  1.276205 -0.160269       0.077309     -0.791091      0.156214   \n",
       "\n",
       "   Humidity9am  Humidity3pm  Pressure9am  Pressure3pm   Temp9am   Temp3pm  \\\n",
       "0     0.113891    -1.435935    -1.475456    -1.220966 -0.013521  0.016412   \n",
       "1    -1.312265    -1.289821    -1.045586    -1.116203  0.032832  0.380274   \n",
       "2    -1.629188    -1.046299    -1.490279    -0.981508  0.619963  0.220175   \n",
       "3    -1.259444    -1.728162    -0.007969    -0.367897  0.171889  0.700472   \n",
       "4     0.694918    -0.900186    -1.015940    -1.385593  0.125537  1.166215   \n",
       "\n",
       "   RainToday  \n",
       "0  -0.532962  \n",
       "1  -0.532962  \n",
       "2  -0.532962  \n",
       "3  -0.532962  \n",
       "4  -0.532962  "
      ]
     },
     "execution_count": 4,
     "metadata": {},
     "output_type": "execute_result"
    }
   ],
   "source": [
    "#Preprocessing: Scale\n",
    "\"\"\"Standardization of datasets is a common requirement for many machine learning estimators implemented in scikit-learn; \n",
    "they might behave badly if the individual features do not more or less look like standard normally distributed data:\n",
    "Gaussian with zero mean and unit variance.\n",
    "In practice we often ignore the shape of the distribution and just transform the data to center it by removing the mean\n",
    "value of each feature, then scale it by dividing non-constant features by their standard deviation.\n",
    "For instance, many elements used in the objective function of a learning algorithm (such as the RBF kernel of Support Vector\n",
    "Machines or the l1 and l2 regularizers of linear models) assume that all features are centered around zero and have variance \n",
    "in the same order. If a feature has a variance that is orders of magnitude larger than others, it might dominate the objective\n",
    "function and make the estimator unable to learn from other features correctly as expected.\n",
    "The function scale provides a quick and easy way to perform this operation on a single array-like dataset:\"\"\"\n",
    "\n",
    "from sklearn.preprocessing import StandardScaler\n",
    "\n",
    "scaler = preprocessing.StandardScaler()\n",
    "print scaler  \n",
    "X_scaled = scaler.fit_transform(X)\n",
    "#X_new_scaled= scaler.transform(X_new)\n",
    "\n",
    "X_scaled = pd.DataFrame(X_scaled)\n",
    "X_scaled.columns = ['MinTemp','MaxTemp','Rainfall','WindGustSpeed','WindSpeed9am','WindSpeed3pm',\n",
    "                            'Humidity9am','Humidity3pm','Pressure9am','Pressure3pm','Temp9am','Temp3pm','RainToday']\n",
    "X_scaled.head()"
   ]
  },
  {
   "cell_type": "code",
   "execution_count": 5,
   "metadata": {
    "collapsed": true
   },
   "outputs": [],
   "source": [
    "#Divide data into training and test sets\n",
    "from sklearn.model_selection import train_test_split\n",
    "\n",
    "#P stands for Primary sets \n",
    "X_train_p, X_test_p, y_train_p, y_test_p = train_test_split(X_scaled, y, test_size = 0.20) \n"
   ]
  },
  {
   "cell_type": "code",
   "execution_count": 6,
   "metadata": {},
   "outputs": [
    {
     "name": "stdout",
     "output_type": "stream",
     "text": [
      "(113754, 13)\n",
      "Training data\n",
      "    MinTemp   MaxTemp  Rainfall  WindGustSpeed  WindSpeed9am  WindSpeed3pm  \\\n",
      "0  1.003866  1.571583 -0.278989      -0.379370      0.338718     -1.105034   \n",
      "1 -0.326566 -0.847705  0.148403      -0.531596      1.129585      0.156214   \n",
      "2 -1.015261 -0.932099 -0.255245      -2.206085     -1.581958     -1.105034   \n",
      "3 -0.185697 -0.496064 -0.278989      -0.683822      0.903623     -0.187763   \n",
      "4  0.549954  0.741711 -0.278989      -0.759936      0.564680     -0.875716   \n",
      "\n",
      "   Humidity9am  Humidity3pm  Pressure9am  Pressure3pm   Temp9am   Temp3pm  \\\n",
      "0    -2.791241    -2.020389    -0.067261    -0.068575  0.959882  1.675621   \n",
      "1     0.536456     0.463540    -0.200669    -0.023677 -0.507947 -0.711311   \n",
      "2     1.223124     0.366131     0.288493     0.410340 -1.125981 -0.754974   \n",
      "3    -0.150212    -0.315732     1.889389     1.862053 -0.446144 -0.420221   \n",
      "4    -1.523547    -1.435935     0.777656     0.530069  0.697217  0.875125   \n",
      "\n",
      "   RainToday  \n",
      "0  -0.532962  \n",
      "1   1.876305  \n",
      "2  -0.532962  \n",
      "3  -0.532962  \n",
      "4  -0.532962  \n",
      "(28439, 13)\n",
      "Test data\n",
      "    MinTemp   MaxTemp  Rainfall  WindGustSpeed  WindSpeed9am  WindSpeed3pm  \\\n",
      "0 -1.453521  0.769842 -0.278989       1.066779      0.903623      2.105415   \n",
      "1 -0.827435 -1.002427 -0.278989       0.229535      0.564680     -0.646398   \n",
      "2 -2.142215 -2.226137 -0.278989       1.066779      0.564680      0.041555   \n",
      "3 -0.686566 -1.171215  0.172147       1.066779      0.338718      0.614850   \n",
      "4 -0.232653 -0.285080 -0.278989      -0.379370     -1.355996      0.385532   \n",
      "\n",
      "   Humidity9am  Humidity3pm   Pressure9am   Pressure3pm   Temp9am   Temp3pm  \\\n",
      "0    -0.731238    -2.069093 -5.564236e-01 -8.767450e-01  0.001930  0.918789   \n",
      "1    -0.572776    -0.802777  3.922552e-01  6.797301e-01 -1.002374 -0.944182   \n",
      "2     0.219532     0.609653  1.702044e-12  2.245913e-12 -1.991227 -2.326856   \n",
      "3    -0.203032    -0.267027 -1.638510e+00 -7.719823e-01 -0.956022 -1.133390   \n",
      "4    -0.308674    -0.023505  2.440241e-01  1.708825e-01 -0.214382 -0.303786   \n",
      "\n",
      "   RainToday  \n",
      "0  -0.532962  \n",
      "1  -0.532962  \n",
      "2  -0.532962  \n",
      "3   1.876305  \n",
      "4  -0.532962  \n"
     ]
    }
   ],
   "source": [
    "X_train = X_train_p\n",
    "X_test = X_test_p\n",
    "y_train = y_train_p\n",
    "y_test = y_test_p \n",
    "\n",
    "X_train = pd.DataFrame(X_train)\n",
    "#Adding name for the columns\n",
    "X_train.columns = ['MinTemp','MaxTemp','Rainfall','WindGustSpeed','WindSpeed9am','WindSpeed3pm','Humidity9am',\n",
    "                   'Humidity3pm','Pressure9am','Pressure3pm','Temp9am','Temp3pm','RainToday']\n",
    "X_train = X_train.reset_index()\n",
    "X_train = X_train.drop('index', axis=1)                            \n",
    "print X_train.shape\n",
    "print \"Training data\"\n",
    "print X_train.head()\n",
    "\n",
    "X_test = pd.DataFrame(X_test)\n",
    "X_test.columns = ['MinTemp','MaxTemp','Rainfall','WindGustSpeed','WindSpeed9am','WindSpeed3pm',\n",
    "                            'Humidity9am','Humidity3pm','Pressure9am','Pressure3pm','Temp9am','Temp3pm','RainToday']\n",
    "X_test = X_test.reset_index()\n",
    "X_test = X_test.drop('index', axis=1)                             \n",
    "print X_test.shape\n",
    "print \"Test data\"\n",
    "print X_test.head()"
   ]
  },
  {
   "cell_type": "raw",
   "metadata": {},
   "source": [
    "#Correlation map of the original data scaled\n",
    "sb.set(style=\"whitegrid\",font='sans-serif', font_scale=1.3)\n",
    "plt.figure(figsize=(15, 15))\n",
    "plt.title('Correlation Matrix')\n",
    "plot = sb.heatmap(X_scaled.corr(), annot=True,cmap= 'coolwarm')"
   ]
  },
  {
   "cell_type": "code",
   "execution_count": 7,
   "metadata": {},
   "outputs": [
    {
     "name": "stdout",
     "output_type": "stream",
     "text": [
      "('Accuracy is: ', 0.83501529589648016)\n"
     ]
    },
    {
     "data": {
      "text/plain": [
       "<matplotlib.axes._subplots.AxesSubplot at 0x156c7a20>"
      ]
     },
     "execution_count": 7,
     "metadata": {},
     "output_type": "execute_result"
    },
    {
     "data": {
      "image/png": "[encoded data removed]",
      "text/plain": [
       "<matplotlib.figure.Figure at 0x156c75f8>"
      ]
     },
     "metadata": {},
     "output_type": "display_data"
    }
   ],
   "source": [
    "from sklearn.ensemble import RandomForestClassifier\n",
    "from sklearn.metrics import f1_score,confusion_matrix\n",
    "from sklearn.metrics import accuracy_score\n",
    "\n",
    "drop_list_final =['RainToday', 'Rainfall']\n",
    "X_train_5 = X_train.drop(drop_list_final, axis = 1 )\n",
    "X_test_5 = X_test.drop(drop_list_final, axis = 1 )\n",
    "\n",
    "#random forest classifier with n_estimators=10 (default)\n",
    "clf_rf_5 = RandomForestClassifier(random_state=43)      \n",
    "clr_rf_5 = clf_rf_5.fit(X_train_5, y_train)\n",
    "\n",
    "y_pred = clf_rf_5.predict(X_test_5)\n",
    "\n",
    "ac = accuracy_score(y_test, clf_rf_5.predict(X_test_5))\n",
    "print('Accuracy is: ',ac)\n",
    "\n",
    "sb.set(style=\"whitegrid\",font='sans-serif', font_scale=1.3)\n",
    "cm = confusion_matrix(y_test,clf_rf_5.predict(X_test_5))\n",
    "sb.heatmap(cm, annot=True, cmap = 'coolwarm',fmt=\"d\")"
   ]
  },
  {
   "cell_type": "markdown",
   "metadata": {},
   "source": [
    "# Feature extraction"
   ]
  },
  {
   "cell_type": "code",
   "execution_count": 8,
   "metadata": {},
   "outputs": [
    {
     "data": {
      "text/html": [
       "<div>\n",
       "<style>\n",
       "    .dataframe thead tr:only-child th {\n",
       "        text-align: right;\n",
       "    }\n",
       "\n",
       "    .dataframe thead th {\n",
       "        text-align: left;\n",
       "    }\n",
       "\n",
       "    .dataframe tbody tr th {\n",
       "        vertical-align: top;\n",
       "    }\n",
       "</style>\n",
       "<table border=\"1\" class=\"dataframe\">\n",
       "  <thead>\n",
       "    <tr style=\"text-align: right;\">\n",
       "      <th></th>\n",
       "      <th>MinTemp</th>\n",
       "      <th>MaxTemp</th>\n",
       "      <th>WindGustSpeed</th>\n",
       "      <th>WindSpeed9am</th>\n",
       "      <th>WindSpeed3pm</th>\n",
       "      <th>Humidity9am</th>\n",
       "      <th>Humidity3pm</th>\n",
       "      <th>Pressure9am</th>\n",
       "      <th>Pressure3pm</th>\n",
       "      <th>Temp9am</th>\n",
       "      <th>Temp3pm</th>\n",
       "    </tr>\n",
       "  </thead>\n",
       "  <tbody>\n",
       "    <tr>\n",
       "      <th>0</th>\n",
       "      <td>0.189954</td>\n",
       "      <td>-0.045964</td>\n",
       "      <td>0.305648</td>\n",
       "      <td>0.677661</td>\n",
       "      <td>0.614850</td>\n",
       "      <td>0.113891</td>\n",
       "      <td>-1.435935</td>\n",
       "      <td>-1.475456</td>\n",
       "      <td>-1.220966</td>\n",
       "      <td>-0.013521</td>\n",
       "      <td>0.016412</td>\n",
       "    </tr>\n",
       "    <tr>\n",
       "      <th>1</th>\n",
       "      <td>-0.749174</td>\n",
       "      <td>0.263480</td>\n",
       "      <td>0.305648</td>\n",
       "      <td>-1.130034</td>\n",
       "      <td>0.385532</td>\n",
       "      <td>-1.312265</td>\n",
       "      <td>-1.289821</td>\n",
       "      <td>-1.045586</td>\n",
       "      <td>-1.116203</td>\n",
       "      <td>0.032832</td>\n",
       "      <td>0.380274</td>\n",
       "    </tr>\n",
       "    <tr>\n",
       "      <th>2</th>\n",
       "      <td>0.111694</td>\n",
       "      <td>0.347873</td>\n",
       "      <td>0.457874</td>\n",
       "      <td>0.564680</td>\n",
       "      <td>0.844167</td>\n",
       "      <td>-1.629188</td>\n",
       "      <td>-1.046299</td>\n",
       "      <td>-1.490279</td>\n",
       "      <td>-0.981508</td>\n",
       "      <td>0.619963</td>\n",
       "      <td>0.220175</td>\n",
       "    </tr>\n",
       "    <tr>\n",
       "      <th>3</th>\n",
       "      <td>-0.467436</td>\n",
       "      <td>0.671383</td>\n",
       "      <td>-1.216614</td>\n",
       "      <td>-0.339167</td>\n",
       "      <td>-1.105034</td>\n",
       "      <td>-1.259444</td>\n",
       "      <td>-1.728162</td>\n",
       "      <td>-0.007969</td>\n",
       "      <td>-0.367897</td>\n",
       "      <td>0.171889</td>\n",
       "      <td>0.700472</td>\n",
       "    </tr>\n",
       "    <tr>\n",
       "      <th>4</th>\n",
       "      <td>0.831692</td>\n",
       "      <td>1.276205</td>\n",
       "      <td>0.077309</td>\n",
       "      <td>-0.791091</td>\n",
       "      <td>0.156214</td>\n",
       "      <td>0.694918</td>\n",
       "      <td>-0.900186</td>\n",
       "      <td>-1.015940</td>\n",
       "      <td>-1.385593</td>\n",
       "      <td>0.125537</td>\n",
       "      <td>1.166215</td>\n",
       "    </tr>\n",
       "  </tbody>\n",
       "</table>\n",
       "</div>"
      ],
      "text/plain": [
       "    MinTemp   MaxTemp  WindGustSpeed  WindSpeed9am  WindSpeed3pm  Humidity9am  \\\n",
       "0  0.189954 -0.045964       0.305648      0.677661      0.614850     0.113891   \n",
       "1 -0.749174  0.263480       0.305648     -1.130034      0.385532    -1.312265   \n",
       "2  0.111694  0.347873       0.457874      0.564680      0.844167    -1.629188   \n",
       "3 -0.467436  0.671383      -1.216614     -0.339167     -1.105034    -1.259444   \n",
       "4  0.831692  1.276205       0.077309     -0.791091      0.156214     0.694918   \n",
       "\n",
       "   Humidity3pm  Pressure9am  Pressure3pm   Temp9am   Temp3pm  \n",
       "0    -1.435935    -1.475456    -1.220966 -0.013521  0.016412  \n",
       "1    -1.289821    -1.045586    -1.116203  0.032832  0.380274  \n",
       "2    -1.046299    -1.490279    -0.981508  0.619963  0.220175  \n",
       "3    -1.728162    -0.007969    -0.367897  0.171889  0.700472  \n",
       "4    -0.900186    -1.015940    -1.385593  0.125537  1.166215  "
      ]
     },
     "execution_count": 8,
     "metadata": {},
     "output_type": "execute_result"
    }
   ],
   "source": [
    "drop_list_final =['RainToday', 'Rainfall']\n",
    "X_scaled_Reduced = X_scaled.drop(drop_list_final, axis = 1 )        # do not modify x, we will use it later \n",
    "X_scaled_Reduced.head()  "
   ]
  },
  {
   "cell_type": "raw",
   "metadata": {},
   "source": [
    "The number of principal components to retain in a feature set depends on several conditions such as storage capacity, training time, performance, etc. In some dataset all the features are contributing equally to the overall variance, therefore all the principal components are crucial to the predictions and none can be ignored. A general rule of thumb is to take number of principal of principal components that contribute to significant variance and ignore those with diminishing variance returns. A good way is to plot the variance against principal components and ignore the principal components with diminishing values as shown in the following graph:"
   ]
  },
  {
   "cell_type": "code",
   "execution_count": 8,
   "metadata": {
    "collapsed": true
   },
   "outputs": [],
   "source": [
    "X_train_Reduced = X_train.drop(drop_list_final, axis = 1 )\n",
    "X_test_Reduced = X_test.drop(drop_list_final, axis = 1 ) "
   ]
  },
  {
   "cell_type": "raw",
   "metadata": {},
   "source": [
    "sb.set(style=\"whitegrid\",font='sans-serif', font_scale=1.3)\n",
    "plt.figure(figsize=(15, 15))\n",
    "plt.title('Correlation Matrix')\n",
    "plot = sb.heatmap(X_scaled_Reduced.corr(), annot=True,cmap= 'coolwarm')"
   ]
  },
  {
   "cell_type": "code",
   "execution_count": 10,
   "metadata": {
    "collapsed": true
   },
   "outputs": [],
   "source": [
    "X_scaled_Reduced = X_scaled.drop(drop_list_final, axis = 1 ) "
   ]
  },
  {
   "cell_type": "code",
   "execution_count": 13,
   "metadata": {
    "scrolled": false
   },
   "outputs": [
    {
     "data": {
      "text/plain": [
       "Text(0,0.5,u'cumulative explained variance')"
      ]
     },
     "execution_count": 13,
     "metadata": {},
     "output_type": "execute_result"
    },
    {
     "data": {
      "image/png": "[encoded data removed]",
      "text/plain": [
       "<matplotlib.figure.Figure at 0x14d81908>"
      ]
     },
     "metadata": {},
     "output_type": "display_data"
    }
   ],
   "source": [
    "\"\"\"We will use principle component analysis (PCA) for feature extraction. Before PCA, we need to normalize \n",
    "data for better performance of PCA.\"\"\"\n",
    "\n",
    "from sklearn.decomposition import PCA\n",
    "#pca = PCA()\n",
    "#pca = PCA(n_components=2)\n",
    "\n",
    "\"\"\"Notice the code below has .95 for the number of components parameter. It means that scikit-learn choose \n",
    "the minimum number of principal components such that 95% of the variance is retained.\"\"\"\n",
    "pca = PCA(.99)\n",
    "\n",
    "pca.fit(X_scaled_Reduced)\n",
    "\n",
    "plt.figure(1, figsize=(15, 15))\n",
    "plt.clf()\n",
    "plt.axes([.2, .2, .7, .7])\n",
    "plt.plot(np.cumsum(pca.explained_variance_ratio_))\n",
    "#plt.plot(pca.explained_variance_ratio_, linewidth=2)\n",
    "plt.axis('tight')\n",
    "plt.xlabel('Number of components', fontsize = 16)\n",
    "plt.ylabel('cumulative explained variance')"
   ]
  },
  {
   "cell_type": "code",
   "execution_count": 11,
   "metadata": {},
   "outputs": [
    {
     "name": "stdout",
     "output_type": "stream",
     "text": [
      "('Accuracy is: ', 0.83012764161890362)\n"
     ]
    },
    {
     "data": {
      "text/plain": [
       "<matplotlib.axes._subplots.AxesSubplot at 0x11941b70>"
      ]
     },
     "execution_count": 11,
     "metadata": {},
     "output_type": "execute_result"
    },
    {
     "data": {
      "image/png": "[encoded data removed]",
      "text/plain": [
       "<matplotlib.figure.Figure at 0x124a1048>"
      ]
     },
     "metadata": {},
     "output_type": "display_data"
    }
   ],
   "source": [
    "X_train_7 = pca.transform(X_train_Reduced)\n",
    "X_test_7 = pca.transform(X_test_Reduced)\n",
    "\n",
    "\n",
    "#random forest classifier with n_estimators=10 (default)\n",
    "clf_rf_7 = RandomForestClassifier(random_state=43)      \n",
    "clr_rf_7 = clf_rf_7.fit(X_train_7, y_train)\n",
    "\n",
    "ac = accuracy_score(y_test, clf_rf_7.predict(X_test_7))\n",
    "print ('Accuracy is: ',ac)\n",
    "\n",
    "sb.set(style=\"whitegrid\",font='sans-serif', font_scale=1.3)\n",
    "cm = confusion_matrix(y_test,clf_rf_7.predict(X_test_7))\n",
    "sb.heatmap(cm, annot=True, cmap = 'coolwarm',fmt=\"d\")"
   ]
  },
  {
   "cell_type": "code",
   "execution_count": 12,
   "metadata": {},
   "outputs": [
    {
     "name": "stdout",
     "output_type": "stream",
     "text": [
      "('Accuracy:', 0.83483948099440908)\n",
      "('Precision:', 0.71004736973323357)\n",
      "('Recall:', 0.44625509244750861)\n",
      "('F-Measure:', 0.54806119503511974)\n",
      "('Geometric mean:', 0.65017335291284517)\n",
      "*******************************************\n",
      "                   pre       rec       spe        f1       geo       iba       sup\n",
      "\n",
      "    class 0       0.86      0.95      0.45      0.90      0.78      0.62     22057\n",
      "    class 1       0.71      0.45      0.95      0.55      0.78      0.60      6382\n",
      "\n",
      "avg / total       0.82      0.83      0.56      0.82      0.78      0.61     28439\n",
      "\n",
      "*******************************************\n"
     ]
    },
    {
     "data": {
      "text/plain": [
       "Text(31,0.5,u'True labels')"
      ]
     },
     "execution_count": 12,
     "metadata": {},
     "output_type": "execute_result"
    },
    {
     "data": {
      "image/png": "[encoded data removed]",
      "text/plain": [
       "<matplotlib.figure.Figure at 0x14ba2ac8>"
      ]
     },
     "metadata": {},
     "output_type": "display_data"
    }
   ],
   "source": [
    "#Evaluation\n",
    "\n",
    "#Import scikit-learn metrics module for accuracy calculation\n",
    "from sklearn import metrics\n",
    "\n",
    "# Model Accuracy: how often is the classifier correct?\n",
    "print(\"Accuracy:\",metrics.accuracy_score(y_test, y_pred))\n",
    "\n",
    "# Model Precision: what percentage of positive tuples are labeled as such?\n",
    "print(\"Precision:\",metrics.precision_score(y_test, y_pred))\n",
    "\n",
    "# Model Recall: what percentage of positive tuples are labelled as such?\n",
    "print(\"Recall:\",metrics.recall_score(y_test, y_pred))\n",
    "\n",
    "#Model F-measure:Compute the F1 score, also known as balanced F-score or F-measure\n",
    "F1 = 2 * (metrics.precision_score(y_test, y_pred) * metrics.recall_score\n",
    "          (y_test, y_pred)) / (metrics.precision_score(y_test, y_pred) + metrics.recall_score(y_test, y_pred))\n",
    "print ('F-Measure:', F1)\n",
    "\n",
    "#Model G-mean\n",
    "from imblearn.metrics import geometric_mean_score\n",
    "print ('Geometric mean:', geometric_mean_score(y_test, y_pred))\n",
    "print \"*******************************************\"\n",
    "\n",
    "#Evaluating the results\n",
    "\"\"\"Confusion matrix, precision, recall, and F1 measures \n",
    "are the most commonly used metrics for classification tasks\"\"\"\n",
    "from imblearn.metrics import classification_report_imbalanced\n",
    "target_names = ['class 0', 'class 1']\n",
    "print(classification_report_imbalanced(y_test, y_pred,     target_names=target_names))\n",
    "\n",
    "print \"*******************************************\"\n",
    "#Confusion matrix using pyplot \n",
    "cm = confusion_matrix(y_test, y_pred)\n",
    "sb.set(style=\"whitegrid\",font='sans-serif', font_scale=1.3)\n",
    "ax= plt.subplot()\n",
    "sb.heatmap(cm, annot=True, ax = ax, cmap='coolwarm',fmt='g',linewidths=0.5 ) #annot=True to annotate cells\n",
    "\n",
    "# labels, title and ticks\n",
    "ax.set_xlabel('Predicted labels', fontsize=18);ax.set_ylabel('True labels', fontsize=18)\n",
    "#ax.set_title('Classifier with Linear kernel', fontsize=20)\n",
    "#ax.xaxis.set_ticklabels(['Versicolor', 'Setosa']); ax.yaxis.set_ticklabels(['Versicolor', 'Setosa'])\n",
    "#plt.savefig('Iris-Scaled-linear.png')"
   ]
  },
  {
   "cell_type": "code",
   "execution_count": 13,
   "metadata": {},
   "outputs": [
    {
     "data": {
      "text/html": [
       "<div>\n",
       "<style>\n",
       "    .dataframe thead tr:only-child th {\n",
       "        text-align: right;\n",
       "    }\n",
       "\n",
       "    .dataframe thead th {\n",
       "        text-align: left;\n",
       "    }\n",
       "\n",
       "    .dataframe tbody tr th {\n",
       "        vertical-align: top;\n",
       "    }\n",
       "</style>\n",
       "<table border=\"1\" class=\"dataframe\">\n",
       "  <thead>\n",
       "    <tr style=\"text-align: right;\">\n",
       "      <th></th>\n",
       "      <th>0</th>\n",
       "      <th>1</th>\n",
       "      <th>2</th>\n",
       "      <th>3</th>\n",
       "      <th>4</th>\n",
       "      <th>5</th>\n",
       "      <th>6</th>\n",
       "      <th>7</th>\n",
       "    </tr>\n",
       "  </thead>\n",
       "  <tbody>\n",
       "    <tr>\n",
       "      <th>0</th>\n",
       "      <td>-0.221183</td>\n",
       "      <td>-0.309609</td>\n",
       "      <td>1.614533</td>\n",
       "      <td>0.415234</td>\n",
       "      <td>0.056403</td>\n",
       "      <td>-1.116533</td>\n",
       "      <td>0.116186</td>\n",
       "      <td>-0.122676</td>\n",
       "    </tr>\n",
       "    <tr>\n",
       "      <th>1</th>\n",
       "      <td>-1.391759</td>\n",
       "      <td>-0.789091</td>\n",
       "      <td>0.662521</td>\n",
       "      <td>1.234883</td>\n",
       "      <td>-0.293865</td>\n",
       "      <td>-0.333418</td>\n",
       "      <td>0.058116</td>\n",
       "      <td>-0.116719</td>\n",
       "    </tr>\n",
       "    <tr>\n",
       "      <th>2</th>\n",
       "      <td>5.071710</td>\n",
       "      <td>-0.630189</td>\n",
       "      <td>-1.183748</td>\n",
       "      <td>1.586683</td>\n",
       "      <td>-0.058910</td>\n",
       "      <td>0.609968</td>\n",
       "      <td>0.185906</td>\n",
       "      <td>-0.189458</td>\n",
       "    </tr>\n",
       "    <tr>\n",
       "      <th>3</th>\n",
       "      <td>-0.799737</td>\n",
       "      <td>-0.430740</td>\n",
       "      <td>-0.072403</td>\n",
       "      <td>0.947307</td>\n",
       "      <td>-0.880392</td>\n",
       "      <td>-0.934609</td>\n",
       "      <td>-0.362296</td>\n",
       "      <td>0.032611</td>\n",
       "    </tr>\n",
       "    <tr>\n",
       "      <th>4</th>\n",
       "      <td>-5.086211</td>\n",
       "      <td>-1.774453</td>\n",
       "      <td>1.015426</td>\n",
       "      <td>-1.126787</td>\n",
       "      <td>-0.620693</td>\n",
       "      <td>0.438790</td>\n",
       "      <td>0.229631</td>\n",
       "      <td>0.242919</td>\n",
       "    </tr>\n",
       "  </tbody>\n",
       "</table>\n",
       "</div>"
      ],
      "text/plain": [
       "          0         1         2         3         4         5         6  \\\n",
       "0 -0.221183 -0.309609  1.614533  0.415234  0.056403 -1.116533  0.116186   \n",
       "1 -1.391759 -0.789091  0.662521  1.234883 -0.293865 -0.333418  0.058116   \n",
       "2  5.071710 -0.630189 -1.183748  1.586683 -0.058910  0.609968  0.185906   \n",
       "3 -0.799737 -0.430740 -0.072403  0.947307 -0.880392 -0.934609 -0.362296   \n",
       "4 -5.086211 -1.774453  1.015426 -1.126787 -0.620693  0.438790  0.229631   \n",
       "\n",
       "          7  \n",
       "0 -0.122676  \n",
       "1 -0.116719  \n",
       "2 -0.189458  \n",
       "3  0.032611  \n",
       "4  0.242919  "
      ]
     },
     "execution_count": 13,
     "metadata": {},
     "output_type": "execute_result"
    }
   ],
   "source": [
    "X_train_7 = pd.DataFrame(X_train_7) \n",
    "X_train_7.head()"
   ]
  },
  {
   "cell_type": "code",
   "execution_count": 14,
   "metadata": {},
   "outputs": [
    {
     "data": {
      "image/png": "[encoded data removed]",
      "text/plain": [
       "<matplotlib.figure.Figure at 0x14658a90>"
      ]
     },
     "metadata": {},
     "output_type": "display_data"
    }
   ],
   "source": [
    "sb.set(style=\"whitegrid\",font='sans-serif', font_scale=1.3)\n",
    "plt.figure(figsize=(15, 15))\n",
    "plt.title('Correlation Matrix')\n",
    "plot = sb.heatmap(X_train_7.corr(), annot=True, fmt='.001f', cmap= 'coolwarm')"
   ]
  },
  {
   "cell_type": "code",
   "execution_count": 15,
   "metadata": {},
   "outputs": [
    {
     "data": {
      "text/html": [
       "<div>\n",
       "<style>\n",
       "    .dataframe thead tr:only-child th {\n",
       "        text-align: right;\n",
       "    }\n",
       "\n",
       "    .dataframe thead th {\n",
       "        text-align: left;\n",
       "    }\n",
       "\n",
       "    .dataframe tbody tr th {\n",
       "        vertical-align: top;\n",
       "    }\n",
       "</style>\n",
       "<table border=\"1\" class=\"dataframe\">\n",
       "  <thead>\n",
       "    <tr style=\"text-align: right;\">\n",
       "      <th></th>\n",
       "      <th>0</th>\n",
       "      <th>1</th>\n",
       "      <th>2</th>\n",
       "      <th>3</th>\n",
       "      <th>4</th>\n",
       "      <th>5</th>\n",
       "      <th>6</th>\n",
       "      <th>7</th>\n",
       "    </tr>\n",
       "  </thead>\n",
       "  <tbody>\n",
       "    <tr>\n",
       "      <th>0</th>\n",
       "      <td>1.329162</td>\n",
       "      <td>1.089773</td>\n",
       "      <td>0.154372</td>\n",
       "      <td>1.386960</td>\n",
       "      <td>-0.077080</td>\n",
       "      <td>0.717266</td>\n",
       "      <td>0.698151</td>\n",
       "      <td>-0.844924</td>\n",
       "    </tr>\n",
       "    <tr>\n",
       "      <th>1</th>\n",
       "      <td>1.201544</td>\n",
       "      <td>-0.165625</td>\n",
       "      <td>0.510448</td>\n",
       "      <td>2.212495</td>\n",
       "      <td>-0.873853</td>\n",
       "      <td>-0.776803</td>\n",
       "      <td>0.007917</td>\n",
       "      <td>0.085203</td>\n",
       "    </tr>\n",
       "    <tr>\n",
       "      <th>2</th>\n",
       "      <td>2.188099</td>\n",
       "      <td>0.833814</td>\n",
       "      <td>0.844096</td>\n",
       "      <td>1.261486</td>\n",
       "      <td>0.215900</td>\n",
       "      <td>-0.702896</td>\n",
       "      <td>0.469526</td>\n",
       "      <td>-0.209797</td>\n",
       "    </tr>\n",
       "    <tr>\n",
       "      <th>3</th>\n",
       "      <td>0.827603</td>\n",
       "      <td>-2.096686</td>\n",
       "      <td>0.795512</td>\n",
       "      <td>1.560439</td>\n",
       "      <td>0.562138</td>\n",
       "      <td>0.032131</td>\n",
       "      <td>0.468624</td>\n",
       "      <td>0.029683</td>\n",
       "    </tr>\n",
       "    <tr>\n",
       "      <th>4</th>\n",
       "      <td>1.975079</td>\n",
       "      <td>-0.412035</td>\n",
       "      <td>-1.132834</td>\n",
       "      <td>0.913044</td>\n",
       "      <td>-1.073298</td>\n",
       "      <td>0.954810</td>\n",
       "      <td>0.153818</td>\n",
       "      <td>-0.279111</td>\n",
       "    </tr>\n",
       "  </tbody>\n",
       "</table>\n",
       "</div>"
      ],
      "text/plain": [
       "          0         1         2         3         4         5         6  \\\n",
       "0  1.329162  1.089773  0.154372  1.386960 -0.077080  0.717266  0.698151   \n",
       "1  1.201544 -0.165625  0.510448  2.212495 -0.873853 -0.776803  0.007917   \n",
       "2  2.188099  0.833814  0.844096  1.261486  0.215900 -0.702896  0.469526   \n",
       "3  0.827603 -2.096686  0.795512  1.560439  0.562138  0.032131  0.468624   \n",
       "4  1.975079 -0.412035 -1.132834  0.913044 -1.073298  0.954810  0.153818   \n",
       "\n",
       "          7  \n",
       "0 -0.844924  \n",
       "1  0.085203  \n",
       "2 -0.209797  \n",
       "3  0.029683  \n",
       "4 -0.279111  "
      ]
     },
     "execution_count": 15,
     "metadata": {},
     "output_type": "execute_result"
    }
   ],
   "source": [
    "X_scaled_Reduced_2 = pca.transform(X_scaled_Reduced)\n",
    "X_scaled_Reduced_2 = pd.DataFrame(X_scaled_Reduced_2)\n",
    "X_scaled_Reduced_2.head()"
   ]
  },
  {
   "cell_type": "code",
   "execution_count": 16,
   "metadata": {},
   "outputs": [
    {
     "data": {
      "image/png": "[encoded data removed]",
      "text/plain": [
       "<matplotlib.figure.Figure at 0x14810a90>"
      ]
     },
     "metadata": {},
     "output_type": "display_data"
    }
   ],
   "source": [
    "sb.set(style=\"whitegrid\",font='sans-serif', font_scale=1.3)\n",
    "plt.figure(figsize=(15, 15))\n",
    "plt.title('Correlation Matrix')\n",
    "plot = sb.heatmap(X_scaled_Reduced_2.corr(), annot=True,fmt='.001f', cmap= 'coolwarm')"
   ]
  },
  {
   "cell_type": "raw",
   "metadata": {
    "collapsed": true
   },
   "source": [
    "X_scaled_Reduced_2.to_excel(\"WeatherAUS-Final-PCA-RAW.xlsx\", sheet_name='Data') "
   ]
  },
  {
   "cell_type": "code",
   "execution_count": null,
   "metadata": {
    "collapsed": true
   },
   "outputs": [],
   "source": []
  }
 ],
 "metadata": {
  "kernelspec": {
   "display_name": "Python 3",
   "language": "python",
   "name": "python3"
  },
  "language_info": {
   "codemirror_mode": {
    "name": "ipython",
    "version": 3
   },
   "file_extension": ".py",
   "mimetype": "text/x-python",
   "name": "python",
   "nbconvert_exporter": "python",
   "pygments_lexer": "ipython3",
   "version": "3.7.6"
  }
 },
 "nbformat": 4,
 "nbformat_minor": 2
}
